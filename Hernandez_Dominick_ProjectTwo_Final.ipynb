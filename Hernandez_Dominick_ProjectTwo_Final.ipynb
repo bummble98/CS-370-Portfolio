{
 "cells": [
  {
   "cell_type": "markdown",
   "metadata": {},
   "source": [
    "# Treasure Hunt Game Notebook\n",
    "\n",
    "## Read and Review Your Starter Code\n",
    "The theme of this project is a popular treasure hunt game in which the player needs to find the treasure before the pirate does. While you will not be developing the entire game, you will write the part of the game that represents the intelligent agent, which is a pirate in this case. The pirate will try to find the optimal path to the treasure using deep Q-learning. \n",
    "\n",
    "You have been provided with two Python classes and this notebook to help you with this assignment. The first class, TreasureMaze.py, represents the environment, which includes a maze object defined as a matrix. The second class, GameExperience.py, stores the episodes – that is, all the states that come in between the initial state and the terminal state. This is later used by the agent for learning by experience, called \"exploration\". This notebook shows how to play a game. Your task is to complete the deep Q-learning implementation for which a skeleton implementation has been provided. The code blocks you will need to complete has #TODO as a header.\n",
    "\n",
    "First, read and review the next few code and instruction blocks to understand the code that you have been given."
   ]
  },
  {
   "cell_type": "code",
   "execution_count": 1,
   "metadata": {},
   "outputs": [
    {
     "name": "stderr",
     "output_type": "stream",
     "text": [
      "Using TensorFlow backend.\n"
     ]
    },
    {
     "name": "stdout",
     "output_type": "stream",
     "text": [
      "numpy\n",
      "1.16.5\n",
      "keras\n",
      "2.3.1\n"
     ]
    }
   ],
   "source": [
    "from __future__ import print_function\n",
    "import os, sys, time, datetime, json, random\n",
    "import numpy as np\n",
    "import keras as keras\n",
    "from keras.models import Sequential\n",
    "from keras.layers.core import Dense, Activation\n",
    "from keras.optimizers import SGD , Adam, RMSprop\n",
    "from keras.layers.advanced_activations import PReLU\n",
    "import matplotlib.pyplot as plt\n",
    "from TreasureMaze import TreasureMaze\n",
    "from GameExperience import GameExperience\n",
    "%matplotlib inline\n",
    "print(\"numpy\")\n",
    "print(np.__version__)\n",
    "print(\"keras\")\n",
    "print(keras.__version__)"
   ]
  },
  {
   "cell_type": "markdown",
   "metadata": {},
   "source": [
    "The following code block contains an 8x8 matrix that will be used as a maze object:"
   ]
  },
  {
   "cell_type": "code",
   "execution_count": 2,
   "metadata": {},
   "outputs": [],
   "source": [
    "maze = np.array([\n",
    "    [ 1.,  0.,  1.,  1.,  1.,  1.,  1.,  1.],\n",
    "    [ 1.,  0.,  1.,  1.,  1.,  0.,  1.,  1.],\n",
    "    [ 1.,  1.,  1.,  1.,  0.,  1.,  0.,  1.],\n",
    "    [ 1.,  1.,  1.,  0.,  1.,  1.,  1.,  1.],\n",
    "    [ 1.,  1.,  0.,  1.,  1.,  1.,  1.,  1.],\n",
    "    [ 1.,  1.,  1.,  0.,  1.,  0.,  0.,  0.],\n",
    "    [ 1.,  1.,  1.,  0.,  1.,  1.,  1.,  1.],\n",
    "    [ 1.,  1.,  1.,  1.,  0.,  1.,  1.,  1.]\n",
    "])"
   ]
  },
  {
   "cell_type": "markdown",
   "metadata": {},
   "source": [
    "This helper function allows a visual representation of the maze object:"
   ]
  },
  {
   "cell_type": "code",
   "execution_count": 3,
   "metadata": {},
   "outputs": [],
   "source": [
    "def show(qmaze):\n",
    "    plt.grid('on')\n",
    "    nrows, ncols = qmaze.maze.shape\n",
    "    ax = plt.gca()\n",
    "    ax.set_xticks(np.arange(0.5, nrows, 1))\n",
    "    ax.set_yticks(np.arange(0.5, ncols, 1))\n",
    "    ax.set_xticklabels([])\n",
    "    ax.set_yticklabels([])\n",
    "    canvas = np.copy(qmaze.maze)\n",
    "    for row,col in qmaze.visited:\n",
    "        canvas[row,col] = 0.6\n",
    "    pirate_row, pirate_col, _ = qmaze.state\n",
    "    canvas[pirate_row, pirate_col] = 0.3   # pirate cell\n",
    "    canvas[nrows-1, ncols-1] = 0.9 # treasure cell\n",
    "    img = plt.imshow(canvas, interpolation='none', cmap='gray')\n",
    "    return img"
   ]
  },
  {
   "cell_type": "markdown",
   "metadata": {},
   "source": [
    "The pirate agent can move in four directions: left, right, up, and down. \n",
    "\n",
    "While the agent primarily learns by experience through exploitation, often, the agent can choose to explore the environment to find previously undiscovered paths. This is called \"exploration\" and is defined by epsilon. This value is typically a lower value such as 0.1, which means for every ten attempts, the agent will attempt to learn by experience nine times and will randomly explore a new path one time. You are encouraged to try various values for the exploration factor and see how the algorithm performs."
   ]
  },
  {
   "cell_type": "code",
   "execution_count": 4,
   "metadata": {},
   "outputs": [],
   "source": [
    "LEFT = 0\n",
    "UP = 1\n",
    "RIGHT = 2\n",
    "DOWN = 3\n",
    "\n",
    "\n",
    "# Exploration factor\n",
    "epsilon = 0.1\n",
    "\n",
    "# Actions dictionary\n",
    "actions_dict = {\n",
    "    LEFT: 'left',\n",
    "    UP: 'up',\n",
    "    RIGHT: 'right',\n",
    "    DOWN: 'down',\n",
    "}\n",
    "\n",
    "num_actions = len(actions_dict)\n"
   ]
  },
  {
   "cell_type": "markdown",
   "metadata": {},
   "source": [
    "The sample code block and output below show creating a maze object and performing one action (DOWN), which returns the reward. The resulting updated environment is visualized."
   ]
  },
  {
   "cell_type": "code",
   "execution_count": 5,
   "metadata": {},
   "outputs": [
    {
     "name": "stdout",
     "output_type": "stream",
     "text": [
      "reward= -0.04\n"
     ]
    },
    {
     "data": {
      "text/plain": [
       "<matplotlib.image.AxesImage at 0x257d58747c8>"
      ]
     },
     "execution_count": 5,
     "metadata": {},
     "output_type": "execute_result"
    },
    {
     "data": {
      "image/png": "[encoded data removed]",
      "text/plain": [
       "<Figure size 432x288 with 1 Axes>"
      ]
     },
     "metadata": {
      "needs_background": "light"
     },
     "output_type": "display_data"
    }
   ],
   "source": [
    "qmaze = TreasureMaze(maze)\n",
    "canvas, reward, game_over = qmaze.act(DOWN)\n",
    "print(\"reward=\", reward)\n",
    "show(qmaze)"
   ]
  },
  {
   "cell_type": "markdown",
   "metadata": {},
   "source": [
    "This function simulates a full game based on the provided trained model. The other parameters include the TreasureMaze object and the starting position of the pirate."
   ]
  },
  {
   "cell_type": "code",
   "execution_count": 6,
   "metadata": {},
   "outputs": [],
   "source": [
    "def play_game(model, qmaze, pirate_cell):\n",
    "    qmaze.reset(pirate_cell)\n",
    "    envstate = qmaze.observe()\n",
    "    while True:\n",
    "        prev_envstate = envstate\n",
    "        # get next action\n",
    "        q = model.predict(prev_envstate)\n",
    "        action = np.argmax(q[0])\n",
    "\n",
    "        # apply action, get rewards and new state\n",
    "        envstate, reward, game_status = qmaze.act(action)\n",
    "        if game_status == 'win':\n",
    "            return True\n",
    "        elif game_status == 'lose':\n",
    "            return False"
   ]
  },
  {
   "cell_type": "markdown",
   "metadata": {},
   "source": [
    "This function helps you to determine whether the pirate can win any game at all. If your maze is not well designed, the pirate may not win any game at all. In this case, your training would not yield any result. The provided maze in this notebook ensures that there is a path to win and you can run this method to check."
   ]
  },
  {
   "cell_type": "code",
   "execution_count": 7,
   "metadata": {},
   "outputs": [],
   "source": [
    "def completion_check(model, qmaze):\n",
    "    for cell in qmaze.free_cells:\n",
    "        if not qmaze.valid_actions(cell):\n",
    "            return False\n",
    "        if not play_game(model, qmaze, cell):\n",
    "            return False\n",
    "    return True"
   ]
  },
  {
   "cell_type": "markdown",
   "metadata": {},
   "source": [
    "The code you have been given in this block will build the neural network model. Review the code and note the number of layers, as well as the activation, optimizer, and loss functions that are used to train the model."
   ]
  },
  {
   "cell_type": "code",
   "execution_count": 8,
   "metadata": {},
   "outputs": [],
   "source": [
    "def build_model(maze):\n",
    "    model = Sequential()\n",
    "    model.add(Dense(maze.size, input_shape=(maze.size,)))\n",
    "    model.add(PReLU())\n",
    "    model.add(Dense(maze.size))\n",
    "    model.add(PReLU())\n",
    "    model.add(Dense(num_actions))\n",
    "    model.compile(optimizer='adam', loss='mse')\n",
    "    return model"
   ]
  },
  {
   "cell_type": "markdown",
   "metadata": {},
   "source": [
    "# #TODO: Complete the Q-Training Algorithm Code Block\n",
    "\n",
    "This is your deep Q-learning implementation. The goal of your deep Q-learning implementation is to find the best possible navigation sequence that results in reaching the treasure cell while maximizing the reward. In your implementation, you need to determine the optimal number of epochs to achieve a 100% win rate.\n",
    "\n",
    "You will need to complete the section starting with #pseudocode. The pseudocode has been included for you."
   ]
  },
  {
   "cell_type": "code",
   "execution_count": 9,
   "metadata": {},
   "outputs": [],
   "source": [
    "def qtrain(model, maze, **opt):\n",
    "\n",
    "    # exploration factor\n",
    "    global epsilon \n",
    "\n",
    "    # number of epochs\n",
    "    n_epoch = opt.get('n_epoch', 15000)\n",
    "\n",
    "    # maximum memory to store episodes\n",
    "    max_memory = opt.get('max_memory', 1000)\n",
    "\n",
    "    # maximum data size for training\n",
    "    data_size = opt.get('data_size', 50)\n",
    "\n",
    "    # start time\n",
    "    start_time = datetime.datetime.now()\n",
    "\n",
    "    # Construct environment/game from numpy array: maze (see above)\n",
    "    qmaze = TreasureMaze(maze)\n",
    "\n",
    "    # Initialize experience replay object\n",
    "    experience = GameExperience(model, max_memory=max_memory)\n",
    "    \n",
    "    win_history = []   # history of win/lose game\n",
    "    hsize = qmaze.maze.size//2   # history window size\n",
    "    win_rate = 0.0\n",
    "    \n",
    "\n",
    "     # pseudocode:\n",
    "    # For each epoch:\n",
    "    for epoch in range(n_epoch):\n",
    "        #    Agent_cell = randomly select a free cell\n",
    "        Agent_cell = random.choice(qmaze.free_cells)\n",
    "        #    Reset the maze with agent set to above position\n",
    "        qmaze.reset(Agent_cell)\n",
    "        #    Hint: Review the reset method in the TreasureMaze.py class.\n",
    "        #    envstate = Environment.current_state\n",
    "        envstate = qmaze.observe()\n",
    "        #    Hint: Review the observe method in the TreasureMaze.py class.\n",
    "        n_episodes = 0\n",
    "        #    While state is not game over:\n",
    "        game_status = 'not_over'\n",
    "        while game_status == 'not_over':\n",
    "            #        previous_envstate = envstate\n",
    "            previous_envstate = envstate\n",
    "            #        Action = randomly choose action (left, right, up, down) either by exploration or by exploitation\n",
    "            if np.random.rand() < epsilon:\n",
    "                action = np.random.choice(4)\n",
    "            else:\n",
    "                action = np.argmax(model.predict(previous_envstate)[0])\n",
    "            #        envstate, reward, game_status = qmaze.act(action)\n",
    "            #    Hint: Review the act method in the TreasureMaze.py class.\n",
    "            envstate, reward, game_status = qmaze.act(action)\n",
    "            #        episode = [previous_envstate, action, reward, envstate, game_status]\n",
    "            episode = [previous_envstate, action, reward, envstate, game_status]\n",
    "            #        Store episode in Experience replay object\n",
    "            #    Hint: Review the remember method in the GameExperience.py class.\n",
    "            experience.remember(episode)\n",
    "            #        Train neural network model and evaluate loss\n",
    "            #    Hint: Call GameExperience.get_data to retrieve training data (input and target) and pass to model.fit method \n",
    "            #          to train the model. You can call model.evaluate to determine loss.\n",
    "            if n_episodes % 5 == 0 and n_episodes != 0:\n",
    "                inputs, targets = experience.get_data()\n",
    "                model.fit(inputs, targets, epochs=32, batch_size=64, verbose=0)\n",
    "                loss = model.evaluate(inputs, targets, verbose=0)\n",
    "            n_episodes += 1\n",
    "            #    If the win rate is above the threshold and your model passes the completion check, that would be your epoch.\n",
    "        if game_status == 'win':\n",
    "            win_history.append(1)\n",
    "        else:\n",
    "            win_history.append(0)\n",
    "\n",
    "        inputs, targets = experience.get_data()\n",
    "        model.fit(inputs, targets, epochs=32, batch_size=64, verbose=0)\n",
    "        loss = model.evaluate(inputs, targets, verbose=0)\n",
    "        win_rate = sum(win_history)/len(win_history)\n",
    "    #Print the epoch, loss, episodes, win count, and win rate for each epoch\n",
    "        dt = datetime.datetime.now() - start_time\n",
    "        t = format_time(dt.total_seconds())\n",
    "        template = \"Epoch: {:03d}/{:d} | Loss: {:.4f} | Episodes: {:d} | Win count: {:d} | Win rate: {:.3f} | time: {}\"\n",
    "        print(template.format(epoch, n_epoch-1, loss, n_episodes, sum(win_history), win_rate, t))\n",
    "        # We simply check if training has exhausted all free cells and if in all\n",
    "        # cases the agent won.\n",
    "        if win_rate > 0.9 : \n",
    "            epsilon *=.95\n",
    "            print(\"Reached .9 win rate, reducing exploration to {:.1}\".format(epsilon))\n",
    "        if sum(win_history[-hsize:]) == hsize and completion_check(model, qmaze):\n",
    "            print(\" 100%% win rate at epoch: %d\" % (epoch,))\n",
    "            break\n",
    "    \n",
    "    # Determine the total time for training\n",
    "    dt = datetime.datetime.now() - start_time\n",
    "    seconds = dt.total_seconds()\n",
    "    t = format_time(seconds)\n",
    "\n",
    "    print(\"n_epoch: %d, max_mem: %d, data: %d, time: %s\" % (epoch, max_memory, data_size, t))\n",
    "    return seconds\n",
    "\n",
    "# This is a small utility for printing readable time strings:\n",
    "def format_time(seconds):\n",
    "    if seconds < 400:\n",
    "        s = float(seconds)\n",
    "        return \"%.1f seconds\" % (s,)\n",
    "    elif seconds < 4000:\n",
    "        m = seconds / 60.0\n",
    "        return \"%.2f minutes\" % (m,)\n",
    "    else:\n",
    "        h = seconds / 3600.0\n",
    "        return \"%.2f hours\" % (h,)"
   ]
  },
  {
   "cell_type": "markdown",
   "metadata": {},
   "source": [
    "## Test Your Model\n",
    "\n",
    "Now we will start testing the deep Q-learning implementation. To begin, select **Cell**, then **Run All** from the menu bar. This will run your notebook. As it runs, you should see output begin to appear beneath the next few cells. The code below creates an instance of TreasureMaze."
   ]
  },
  {
   "cell_type": "code",
   "execution_count": 10,
   "metadata": {
    "scrolled": true
   },
   "outputs": [
    {
     "data": {
      "text/plain": [
       "<matplotlib.image.AxesImage at 0x257d58fdec8>"
      ]
     },
     "execution_count": 10,
     "metadata": {},
     "output_type": "execute_result"
    },
    {
     "data": {
      "image/png": "[encoded data removed]",
      "text/plain": [
       "<Figure size 432x288 with 1 Axes>"
      ]
     },
     "metadata": {
      "needs_background": "light"
     },
     "output_type": "display_data"
    }
   ],
   "source": [
    "qmaze = TreasureMaze(maze)\n",
    "show(qmaze)"
   ]
  },
  {
   "cell_type": "markdown",
   "metadata": {},
   "source": [
    "In the next code block, you will build your model and train it using deep Q-learning. Note: This step takes several minutes to fully run."
   ]
  },
  {
   "cell_type": "code",
   "execution_count": 11,
   "metadata": {},
   "outputs": [
    {
     "name": "stdout",
     "output_type": "stream",
     "text": [
      "Epoch: 000/14999 | Loss: 0.0007 | Episodes: 135 | Win count: 0 | Win rate: 0.000 | time: 3.0 seconds\n",
      "Epoch: 001/14999 | Loss: 0.0000 | Episodes: 135 | Win count: 0 | Win rate: 0.000 | time: 4.6 seconds\n",
      "Epoch: 002/14999 | Loss: 0.0000 | Episodes: 131 | Win count: 0 | Win rate: 0.000 | time: 6.1 seconds\n",
      "Epoch: 003/14999 | Loss: 0.0001 | Episodes: 136 | Win count: 0 | Win rate: 0.000 | time: 7.6 seconds\n",
      "Epoch: 004/14999 | Loss: 0.0000 | Episodes: 134 | Win count: 0 | Win rate: 0.000 | time: 9.2 seconds\n",
      "Epoch: 005/14999 | Loss: 0.0000 | Episodes: 139 | Win count: 0 | Win rate: 0.000 | time: 10.8 seconds\n",
      "Epoch: 006/14999 | Loss: 0.0002 | Episodes: 140 | Win count: 0 | Win rate: 0.000 | time: 12.5 seconds\n",
      "Epoch: 007/14999 | Loss: 0.0008 | Episodes: 139 | Win count: 0 | Win rate: 0.000 | time: 14.1 seconds\n",
      "Epoch: 008/14999 | Loss: 0.0004 | Episodes: 24 | Win count: 1 | Win rate: 0.111 | time: 14.4 seconds\n",
      "Epoch: 009/14999 | Loss: 0.0003 | Episodes: 134 | Win count: 1 | Win rate: 0.100 | time: 16.1 seconds\n",
      "Epoch: 010/14999 | Loss: 0.0003 | Episodes: 140 | Win count: 1 | Win rate: 0.091 | time: 17.7 seconds\n",
      "Epoch: 011/14999 | Loss: 0.0004 | Episodes: 134 | Win count: 1 | Win rate: 0.083 | time: 19.2 seconds\n",
      "Epoch: 012/14999 | Loss: 0.0006 | Episodes: 135 | Win count: 1 | Win rate: 0.077 | time: 20.8 seconds\n",
      "Epoch: 013/14999 | Loss: 0.0004 | Episodes: 135 | Win count: 1 | Win rate: 0.071 | time: 22.3 seconds\n",
      "Epoch: 014/14999 | Loss: 0.0000 | Episodes: 135 | Win count: 1 | Win rate: 0.067 | time: 23.9 seconds\n",
      "Epoch: 015/14999 | Loss: 0.0001 | Episodes: 134 | Win count: 1 | Win rate: 0.062 | time: 25.3 seconds\n",
      "Epoch: 016/14999 | Loss: 0.0000 | Episodes: 2 | Win count: 2 | Win rate: 0.118 | time: 25.4 seconds\n",
      "Epoch: 017/14999 | Loss: 0.0001 | Episodes: 138 | Win count: 2 | Win rate: 0.111 | time: 27.1 seconds\n",
      "Epoch: 018/14999 | Loss: 0.0000 | Episodes: 137 | Win count: 2 | Win rate: 0.105 | time: 28.7 seconds\n",
      "Epoch: 019/14999 | Loss: 0.0001 | Episodes: 129 | Win count: 2 | Win rate: 0.100 | time: 30.3 seconds\n",
      "Epoch: 020/14999 | Loss: 0.0002 | Episodes: 134 | Win count: 2 | Win rate: 0.095 | time: 31.9 seconds\n",
      "Epoch: 021/14999 | Loss: 0.0000 | Episodes: 144 | Win count: 2 | Win rate: 0.091 | time: 33.6 seconds\n",
      "Epoch: 022/14999 | Loss: 0.0001 | Episodes: 135 | Win count: 2 | Win rate: 0.087 | time: 35.1 seconds\n",
      "Epoch: 023/14999 | Loss: 0.0000 | Episodes: 139 | Win count: 2 | Win rate: 0.083 | time: 36.7 seconds\n",
      "Epoch: 024/14999 | Loss: 0.0000 | Episodes: 141 | Win count: 2 | Win rate: 0.080 | time: 38.3 seconds\n",
      "Epoch: 025/14999 | Loss: 0.0000 | Episodes: 137 | Win count: 2 | Win rate: 0.077 | time: 39.9 seconds\n",
      "Epoch: 026/14999 | Loss: 0.0000 | Episodes: 133 | Win count: 2 | Win rate: 0.074 | time: 41.5 seconds\n",
      "Epoch: 027/14999 | Loss: 0.0005 | Episodes: 2 | Win count: 3 | Win rate: 0.107 | time: 41.5 seconds\n",
      "Epoch: 028/14999 | Loss: 0.0001 | Episodes: 139 | Win count: 3 | Win rate: 0.103 | time: 43.2 seconds\n",
      "Epoch: 029/14999 | Loss: 0.0001 | Episodes: 134 | Win count: 3 | Win rate: 0.100 | time: 44.9 seconds\n",
      "Epoch: 030/14999 | Loss: 0.0002 | Episodes: 135 | Win count: 4 | Win rate: 0.129 | time: 46.5 seconds\n",
      "Epoch: 031/14999 | Loss: 0.0001 | Episodes: 33 | Win count: 5 | Win rate: 0.156 | time: 46.9 seconds\n",
      "Epoch: 032/14999 | Loss: 0.0001 | Episodes: 134 | Win count: 5 | Win rate: 0.152 | time: 48.5 seconds\n",
      "Epoch: 033/14999 | Loss: 0.0000 | Episodes: 144 | Win count: 5 | Win rate: 0.147 | time: 50.1 seconds\n",
      "Epoch: 034/14999 | Loss: 0.0001 | Episodes: 72 | Win count: 6 | Win rate: 0.171 | time: 51.0 seconds\n",
      "Epoch: 035/14999 | Loss: 0.0000 | Episodes: 118 | Win count: 7 | Win rate: 0.194 | time: 52.3 seconds\n",
      "Epoch: 036/14999 | Loss: 0.0001 | Episodes: 8 | Win count: 8 | Win rate: 0.216 | time: 52.5 seconds\n",
      "Epoch: 037/14999 | Loss: 0.0004 | Episodes: 57 | Win count: 9 | Win rate: 0.237 | time: 53.2 seconds\n",
      "Epoch: 038/14999 | Loss: 0.0003 | Episodes: 139 | Win count: 9 | Win rate: 0.231 | time: 54.8 seconds\n",
      "Epoch: 039/14999 | Loss: 0.0001 | Episodes: 23 | Win count: 10 | Win rate: 0.250 | time: 55.0 seconds\n",
      "Epoch: 040/14999 | Loss: 0.0002 | Episodes: 135 | Win count: 10 | Win rate: 0.244 | time: 56.6 seconds\n",
      "Epoch: 041/14999 | Loss: 0.0006 | Episodes: 35 | Win count: 11 | Win rate: 0.262 | time: 57.0 seconds\n",
      "Epoch: 042/14999 | Loss: 0.0007 | Episodes: 134 | Win count: 11 | Win rate: 0.256 | time: 58.5 seconds\n",
      "Epoch: 043/14999 | Loss: 0.0008 | Episodes: 131 | Win count: 11 | Win rate: 0.250 | time: 60.2 seconds\n",
      "Epoch: 044/14999 | Loss: 0.0010 | Episodes: 51 | Win count: 12 | Win rate: 0.267 | time: 60.9 seconds\n",
      "Epoch: 045/14999 | Loss: 0.0001 | Episodes: 137 | Win count: 13 | Win rate: 0.283 | time: 62.4 seconds\n",
      "Epoch: 046/14999 | Loss: 0.0000 | Episodes: 138 | Win count: 13 | Win rate: 0.277 | time: 64.0 seconds\n",
      "Epoch: 047/14999 | Loss: 0.0009 | Episodes: 87 | Win count: 14 | Win rate: 0.292 | time: 65.0 seconds\n",
      "Epoch: 048/14999 | Loss: 0.0001 | Episodes: 132 | Win count: 14 | Win rate: 0.286 | time: 66.6 seconds\n",
      "Epoch: 049/14999 | Loss: 0.0001 | Episodes: 135 | Win count: 14 | Win rate: 0.280 | time: 68.3 seconds\n",
      "Epoch: 050/14999 | Loss: 0.0000 | Episodes: 11 | Win count: 15 | Win rate: 0.294 | time: 68.4 seconds\n",
      "Epoch: 051/14999 | Loss: 0.0000 | Episodes: 136 | Win count: 15 | Win rate: 0.288 | time: 70.1 seconds\n",
      "Epoch: 052/14999 | Loss: 0.0000 | Episodes: 135 | Win count: 15 | Win rate: 0.283 | time: 71.7 seconds\n",
      "Epoch: 053/14999 | Loss: 0.0001 | Episodes: 7 | Win count: 16 | Win rate: 0.296 | time: 71.8 seconds\n",
      "Epoch: 054/14999 | Loss: 0.0000 | Episodes: 7 | Win count: 17 | Win rate: 0.309 | time: 71.9 seconds\n",
      "Epoch: 055/14999 | Loss: 0.0006 | Episodes: 45 | Win count: 18 | Win rate: 0.321 | time: 72.4 seconds\n",
      "Epoch: 056/14999 | Loss: 0.0000 | Episodes: 87 | Win count: 19 | Win rate: 0.333 | time: 73.5 seconds\n",
      "Epoch: 057/14999 | Loss: 0.0003 | Episodes: 150 | Win count: 20 | Win rate: 0.345 | time: 75.2 seconds\n",
      "Epoch: 058/14999 | Loss: 0.0000 | Episodes: 136 | Win count: 20 | Win rate: 0.339 | time: 76.8 seconds\n",
      "Epoch: 059/14999 | Loss: 0.0001 | Episodes: 12 | Win count: 21 | Win rate: 0.350 | time: 76.9 seconds\n",
      "Epoch: 060/14999 | Loss: 0.0000 | Episodes: 15 | Win count: 22 | Win rate: 0.361 | time: 77.1 seconds\n",
      "Epoch: 061/14999 | Loss: 0.0000 | Episodes: 138 | Win count: 22 | Win rate: 0.355 | time: 78.7 seconds\n",
      "Epoch: 062/14999 | Loss: 0.0002 | Episodes: 28 | Win count: 23 | Win rate: 0.365 | time: 79.0 seconds\n",
      "Epoch: 063/14999 | Loss: 0.0003 | Episodes: 29 | Win count: 24 | Win rate: 0.375 | time: 79.4 seconds\n",
      "Epoch: 064/14999 | Loss: 0.0008 | Episodes: 21 | Win count: 25 | Win rate: 0.385 | time: 79.6 seconds\n",
      "Epoch: 065/14999 | Loss: 0.0003 | Episodes: 8 | Win count: 26 | Win rate: 0.394 | time: 79.8 seconds\n",
      "Epoch: 066/14999 | Loss: 0.0002 | Episodes: 7 | Win count: 27 | Win rate: 0.403 | time: 79.9 seconds\n",
      "Epoch: 067/14999 | Loss: 0.0000 | Episodes: 25 | Win count: 28 | Win rate: 0.412 | time: 80.2 seconds\n",
      "Epoch: 068/14999 | Loss: 0.0006 | Episodes: 1 | Win count: 29 | Win rate: 0.420 | time: 80.3 seconds\n",
      "Epoch: 069/14999 | Loss: 0.0002 | Episodes: 4 | Win count: 30 | Win rate: 0.429 | time: 80.3 seconds\n",
      "Epoch: 070/14999 | Loss: 0.0000 | Episodes: 14 | Win count: 31 | Win rate: 0.437 | time: 80.5 seconds\n",
      "Epoch: 071/14999 | Loss: 0.0002 | Episodes: 3 | Win count: 32 | Win rate: 0.444 | time: 80.6 seconds\n",
      "Epoch: 072/14999 | Loss: 0.0003 | Episodes: 26 | Win count: 33 | Win rate: 0.452 | time: 80.9 seconds\n",
      "Epoch: 073/14999 | Loss: 0.0001 | Episodes: 43 | Win count: 34 | Win rate: 0.459 | time: 81.4 seconds\n",
      "Epoch: 074/14999 | Loss: 0.0003 | Episodes: 8 | Win count: 35 | Win rate: 0.467 | time: 81.5 seconds\n",
      "Epoch: 075/14999 | Loss: 0.0003 | Episodes: 140 | Win count: 35 | Win rate: 0.461 | time: 83.0 seconds\n",
      "Epoch: 076/14999 | Loss: 0.0007 | Episodes: 134 | Win count: 35 | Win rate: 0.455 | time: 84.5 seconds\n",
      "Epoch: 077/14999 | Loss: 0.0001 | Episodes: 26 | Win count: 36 | Win rate: 0.462 | time: 84.8 seconds\n",
      "Epoch: 078/14999 | Loss: 0.0003 | Episodes: 19 | Win count: 37 | Win rate: 0.468 | time: 85.0 seconds\n",
      "Epoch: 079/14999 | Loss: 0.0007 | Episodes: 9 | Win count: 38 | Win rate: 0.475 | time: 85.1 seconds\n",
      "Epoch: 080/14999 | Loss: 0.0001 | Episodes: 130 | Win count: 38 | Win rate: 0.469 | time: 86.6 seconds\n",
      "Epoch: 081/14999 | Loss: 0.0001 | Episodes: 8 | Win count: 39 | Win rate: 0.476 | time: 86.7 seconds\n"
     ]
    },
    {
     "name": "stdout",
     "output_type": "stream",
     "text": [
      "Epoch: 082/14999 | Loss: 0.0000 | Episodes: 131 | Win count: 39 | Win rate: 0.470 | time: 88.2 seconds\n",
      "Epoch: 083/14999 | Loss: 0.0000 | Episodes: 97 | Win count: 40 | Win rate: 0.476 | time: 89.3 seconds\n",
      "Epoch: 084/14999 | Loss: 0.0008 | Episodes: 25 | Win count: 41 | Win rate: 0.482 | time: 89.5 seconds\n",
      "Epoch: 085/14999 | Loss: 0.0000 | Episodes: 134 | Win count: 41 | Win rate: 0.477 | time: 91.1 seconds\n",
      "Epoch: 086/14999 | Loss: 0.0000 | Episodes: 131 | Win count: 41 | Win rate: 0.471 | time: 92.6 seconds\n",
      "Epoch: 087/14999 | Loss: 0.0000 | Episodes: 135 | Win count: 41 | Win rate: 0.466 | time: 94.1 seconds\n",
      "Epoch: 088/14999 | Loss: 0.0000 | Episodes: 136 | Win count: 41 | Win rate: 0.461 | time: 95.7 seconds\n",
      "Epoch: 089/14999 | Loss: 0.0000 | Episodes: 135 | Win count: 41 | Win rate: 0.456 | time: 97.2 seconds\n",
      "Epoch: 090/14999 | Loss: 0.0000 | Episodes: 1 | Win count: 42 | Win rate: 0.462 | time: 97.2 seconds\n",
      "Epoch: 091/14999 | Loss: 0.0001 | Episodes: 109 | Win count: 43 | Win rate: 0.467 | time: 98.5 seconds\n",
      "Epoch: 092/14999 | Loss: 0.0006 | Episodes: 150 | Win count: 43 | Win rate: 0.462 | time: 100.3 seconds\n",
      "Epoch: 093/14999 | Loss: 0.0005 | Episodes: 109 | Win count: 44 | Win rate: 0.468 | time: 101.5 seconds\n",
      "Epoch: 094/14999 | Loss: 0.0010 | Episodes: 89 | Win count: 45 | Win rate: 0.474 | time: 102.5 seconds\n",
      "Epoch: 095/14999 | Loss: 0.0004 | Episodes: 26 | Win count: 46 | Win rate: 0.479 | time: 102.9 seconds\n",
      "Epoch: 096/14999 | Loss: 0.0011 | Episodes: 3 | Win count: 47 | Win rate: 0.485 | time: 102.9 seconds\n",
      "Epoch: 097/14999 | Loss: 0.0005 | Episodes: 7 | Win count: 48 | Win rate: 0.490 | time: 103.0 seconds\n",
      "Epoch: 098/14999 | Loss: 0.0013 | Episodes: 139 | Win count: 48 | Win rate: 0.485 | time: 104.6 seconds\n",
      "Epoch: 099/14999 | Loss: 0.0013 | Episodes: 117 | Win count: 49 | Win rate: 0.490 | time: 105.9 seconds\n",
      "Epoch: 100/14999 | Loss: 0.0015 | Episodes: 80 | Win count: 50 | Win rate: 0.495 | time: 106.9 seconds\n",
      "Epoch: 101/14999 | Loss: 0.0001 | Episodes: 22 | Win count: 51 | Win rate: 0.500 | time: 107.2 seconds\n",
      "Epoch: 102/14999 | Loss: 0.0002 | Episodes: 156 | Win count: 52 | Win rate: 0.505 | time: 109.0 seconds\n",
      "Epoch: 103/14999 | Loss: 0.0003 | Episodes: 27 | Win count: 53 | Win rate: 0.510 | time: 109.3 seconds\n",
      "Epoch: 104/14999 | Loss: 0.0011 | Episodes: 119 | Win count: 54 | Win rate: 0.514 | time: 110.6 seconds\n",
      "Epoch: 105/14999 | Loss: 0.0015 | Episodes: 2 | Win count: 55 | Win rate: 0.519 | time: 110.7 seconds\n",
      "Epoch: 106/14999 | Loss: 0.0001 | Episodes: 26 | Win count: 56 | Win rate: 0.523 | time: 111.0 seconds\n",
      "Epoch: 107/14999 | Loss: 0.0002 | Episodes: 9 | Win count: 57 | Win rate: 0.528 | time: 111.1 seconds\n",
      "Epoch: 108/14999 | Loss: 0.0001 | Episodes: 139 | Win count: 57 | Win rate: 0.523 | time: 112.7 seconds\n",
      "Epoch: 109/14999 | Loss: 0.0005 | Episodes: 107 | Win count: 58 | Win rate: 0.527 | time: 114.0 seconds\n",
      "Epoch: 110/14999 | Loss: 0.0004 | Episodes: 131 | Win count: 58 | Win rate: 0.523 | time: 115.6 seconds\n",
      "Epoch: 111/14999 | Loss: 0.0001 | Episodes: 26 | Win count: 59 | Win rate: 0.527 | time: 115.9 seconds\n",
      "Epoch: 112/14999 | Loss: 0.0005 | Episodes: 5 | Win count: 60 | Win rate: 0.531 | time: 116.0 seconds\n",
      "Epoch: 113/14999 | Loss: 0.0002 | Episodes: 16 | Win count: 61 | Win rate: 0.535 | time: 116.2 seconds\n",
      "Epoch: 114/14999 | Loss: 0.0003 | Episodes: 24 | Win count: 62 | Win rate: 0.539 | time: 116.5 seconds\n",
      "Epoch: 115/14999 | Loss: 0.0009 | Episodes: 1 | Win count: 63 | Win rate: 0.543 | time: 116.6 seconds\n",
      "Epoch: 116/14999 | Loss: 0.0000 | Episodes: 134 | Win count: 63 | Win rate: 0.538 | time: 118.1 seconds\n",
      "Epoch: 117/14999 | Loss: 0.0002 | Episodes: 61 | Win count: 64 | Win rate: 0.542 | time: 118.8 seconds\n",
      "Epoch: 118/14999 | Loss: 0.0001 | Episodes: 23 | Win count: 65 | Win rate: 0.546 | time: 119.1 seconds\n",
      "Epoch: 119/14999 | Loss: 0.0000 | Episodes: 16 | Win count: 66 | Win rate: 0.550 | time: 119.3 seconds\n",
      "Epoch: 120/14999 | Loss: 0.0000 | Episodes: 17 | Win count: 67 | Win rate: 0.554 | time: 119.5 seconds\n",
      "Epoch: 121/14999 | Loss: 0.0001 | Episodes: 35 | Win count: 68 | Win rate: 0.557 | time: 120.0 seconds\n",
      "Epoch: 122/14999 | Loss: 0.0002 | Episodes: 2 | Win count: 69 | Win rate: 0.561 | time: 120.0 seconds\n",
      "Epoch: 123/14999 | Loss: 0.0003 | Episodes: 38 | Win count: 70 | Win rate: 0.565 | time: 120.5 seconds\n",
      "Epoch: 124/14999 | Loss: 0.0002 | Episodes: 8 | Win count: 71 | Win rate: 0.568 | time: 120.6 seconds\n",
      "Epoch: 125/14999 | Loss: 0.0002 | Episodes: 3 | Win count: 72 | Win rate: 0.571 | time: 120.7 seconds\n",
      "Epoch: 126/14999 | Loss: 0.0000 | Episodes: 7 | Win count: 73 | Win rate: 0.575 | time: 120.8 seconds\n",
      "Epoch: 127/14999 | Loss: 0.0006 | Episodes: 62 | Win count: 74 | Win rate: 0.578 | time: 121.5 seconds\n",
      "Epoch: 128/14999 | Loss: 0.0001 | Episodes: 150 | Win count: 75 | Win rate: 0.581 | time: 123.1 seconds\n",
      "Epoch: 129/14999 | Loss: 0.0008 | Episodes: 1 | Win count: 76 | Win rate: 0.585 | time: 123.2 seconds\n",
      "Epoch: 130/14999 | Loss: 0.0004 | Episodes: 107 | Win count: 77 | Win rate: 0.588 | time: 124.4 seconds\n",
      "Epoch: 131/14999 | Loss: 0.0002 | Episodes: 7 | Win count: 78 | Win rate: 0.591 | time: 124.5 seconds\n",
      "Epoch: 132/14999 | Loss: 0.0004 | Episodes: 92 | Win count: 79 | Win rate: 0.594 | time: 125.5 seconds\n",
      "Epoch: 133/14999 | Loss: 0.0013 | Episodes: 1 | Win count: 80 | Win rate: 0.597 | time: 125.6 seconds\n",
      "Epoch: 134/14999 | Loss: 0.0004 | Episodes: 15 | Win count: 81 | Win rate: 0.600 | time: 125.7 seconds\n",
      "Epoch: 135/14999 | Loss: 0.0003 | Episodes: 9 | Win count: 82 | Win rate: 0.603 | time: 125.8 seconds\n",
      "Epoch: 136/14999 | Loss: 0.0008 | Episodes: 44 | Win count: 83 | Win rate: 0.606 | time: 126.3 seconds\n",
      "Epoch: 137/14999 | Loss: 0.0003 | Episodes: 56 | Win count: 84 | Win rate: 0.609 | time: 127.0 seconds\n",
      "Epoch: 138/14999 | Loss: 0.0001 | Episodes: 12 | Win count: 85 | Win rate: 0.612 | time: 127.1 seconds\n",
      "Epoch: 139/14999 | Loss: 0.0004 | Episodes: 19 | Win count: 86 | Win rate: 0.614 | time: 127.4 seconds\n",
      "Epoch: 140/14999 | Loss: 0.0001 | Episodes: 54 | Win count: 87 | Win rate: 0.617 | time: 128.0 seconds\n",
      "Epoch: 141/14999 | Loss: 0.0002 | Episodes: 10 | Win count: 88 | Win rate: 0.620 | time: 128.1 seconds\n",
      "Epoch: 142/14999 | Loss: 0.0002 | Episodes: 31 | Win count: 89 | Win rate: 0.622 | time: 128.5 seconds\n",
      "Epoch: 143/14999 | Loss: 0.0003 | Episodes: 37 | Win count: 90 | Win rate: 0.625 | time: 128.9 seconds\n",
      "Epoch: 144/14999 | Loss: 0.0000 | Episodes: 8 | Win count: 91 | Win rate: 0.628 | time: 129.0 seconds\n",
      "Epoch: 145/14999 | Loss: 0.0009 | Episodes: 20 | Win count: 92 | Win rate: 0.630 | time: 129.2 seconds\n",
      "Epoch: 146/14999 | Loss: 0.0005 | Episodes: 22 | Win count: 93 | Win rate: 0.633 | time: 129.5 seconds\n",
      "Epoch: 147/14999 | Loss: 0.0001 | Episodes: 33 | Win count: 94 | Win rate: 0.635 | time: 129.9 seconds\n",
      "Epoch: 148/14999 | Loss: 0.0002 | Episodes: 55 | Win count: 95 | Win rate: 0.638 | time: 130.5 seconds\n",
      "Epoch: 149/14999 | Loss: 0.0001 | Episodes: 106 | Win count: 96 | Win rate: 0.640 | time: 131.7 seconds\n",
      "Epoch: 150/14999 | Loss: 0.0001 | Episodes: 26 | Win count: 97 | Win rate: 0.642 | time: 132.2 seconds\n",
      "Epoch: 151/14999 | Loss: 0.0000 | Episodes: 29 | Win count: 98 | Win rate: 0.645 | time: 132.6 seconds\n",
      "Epoch: 152/14999 | Loss: 0.0001 | Episodes: 1 | Win count: 99 | Win rate: 0.647 | time: 132.7 seconds\n",
      "Epoch: 153/14999 | Loss: 0.0004 | Episodes: 1 | Win count: 100 | Win rate: 0.649 | time: 132.9 seconds\n",
      "Epoch: 154/14999 | Loss: 0.0002 | Episodes: 7 | Win count: 101 | Win rate: 0.652 | time: 133.0 seconds\n",
      "Epoch: 155/14999 | Loss: 0.0006 | Episodes: 16 | Win count: 102 | Win rate: 0.654 | time: 133.4 seconds\n",
      "Epoch: 156/14999 | Loss: 0.0005 | Episodes: 27 | Win count: 103 | Win rate: 0.656 | time: 133.8 seconds\n",
      "Epoch: 157/14999 | Loss: 0.0001 | Episodes: 36 | Win count: 104 | Win rate: 0.658 | time: 134.3 seconds\n",
      "Epoch: 158/14999 | Loss: 0.0004 | Episodes: 20 | Win count: 105 | Win rate: 0.660 | time: 134.6 seconds\n",
      "Epoch: 159/14999 | Loss: 0.0003 | Episodes: 8 | Win count: 106 | Win rate: 0.662 | time: 134.8 seconds\n",
      "Epoch: 160/14999 | Loss: 0.0004 | Episodes: 21 | Win count: 107 | Win rate: 0.665 | time: 135.1 seconds\n",
      "Epoch: 161/14999 | Loss: 0.0009 | Episodes: 6 | Win count: 108 | Win rate: 0.667 | time: 135.3 seconds\n"
     ]
    },
    {
     "name": "stdout",
     "output_type": "stream",
     "text": [
      "Epoch: 162/14999 | Loss: 0.0000 | Episodes: 45 | Win count: 109 | Win rate: 0.669 | time: 135.9 seconds\n",
      "Epoch: 163/14999 | Loss: 0.0005 | Episodes: 36 | Win count: 110 | Win rate: 0.671 | time: 136.4 seconds\n",
      "Epoch: 164/14999 | Loss: 0.0002 | Episodes: 40 | Win count: 111 | Win rate: 0.673 | time: 137.0 seconds\n",
      "Epoch: 165/14999 | Loss: 0.0004 | Episodes: 16 | Win count: 112 | Win rate: 0.675 | time: 137.2 seconds\n",
      "Epoch: 166/14999 | Loss: 0.0004 | Episodes: 46 | Win count: 113 | Win rate: 0.677 | time: 137.9 seconds\n",
      "Epoch: 167/14999 | Loss: 0.0001 | Episodes: 20 | Win count: 114 | Win rate: 0.679 | time: 138.2 seconds\n",
      "Epoch: 168/14999 | Loss: 0.0001 | Episodes: 60 | Win count: 115 | Win rate: 0.680 | time: 138.9 seconds\n",
      "Epoch: 169/14999 | Loss: 0.0001 | Episodes: 34 | Win count: 116 | Win rate: 0.682 | time: 139.4 seconds\n",
      "Epoch: 170/14999 | Loss: 0.0001 | Episodes: 28 | Win count: 117 | Win rate: 0.684 | time: 139.8 seconds\n",
      "Epoch: 171/14999 | Loss: 0.0000 | Episodes: 53 | Win count: 118 | Win rate: 0.686 | time: 140.4 seconds\n",
      "Epoch: 172/14999 | Loss: 0.0002 | Episodes: 41 | Win count: 119 | Win rate: 0.688 | time: 141.0 seconds\n",
      "Epoch: 173/14999 | Loss: 0.0000 | Episodes: 21 | Win count: 120 | Win rate: 0.690 | time: 141.4 seconds\n",
      "Epoch: 174/14999 | Loss: 0.0004 | Episodes: 32 | Win count: 121 | Win rate: 0.691 | time: 142.0 seconds\n",
      "Epoch: 175/14999 | Loss: 0.0001 | Episodes: 41 | Win count: 122 | Win rate: 0.693 | time: 142.5 seconds\n",
      "Epoch: 176/14999 | Loss: 0.0001 | Episodes: 7 | Win count: 123 | Win rate: 0.695 | time: 142.7 seconds\n",
      "Epoch: 177/14999 | Loss: 0.0002 | Episodes: 15 | Win count: 124 | Win rate: 0.697 | time: 142.9 seconds\n",
      "Epoch: 178/14999 | Loss: 0.0001 | Episodes: 53 | Win count: 125 | Win rate: 0.698 | time: 143.7 seconds\n",
      "Epoch: 179/14999 | Loss: 0.0004 | Episodes: 35 | Win count: 126 | Win rate: 0.700 | time: 144.2 seconds\n",
      "Epoch: 180/14999 | Loss: 0.0008 | Episodes: 9 | Win count: 127 | Win rate: 0.702 | time: 144.3 seconds\n",
      "Epoch: 181/14999 | Loss: 0.0005 | Episodes: 49 | Win count: 128 | Win rate: 0.703 | time: 144.9 seconds\n",
      "Epoch: 182/14999 | Loss: 0.0010 | Episodes: 8 | Win count: 129 | Win rate: 0.705 | time: 145.1 seconds\n",
      "Epoch: 183/14999 | Loss: 0.0003 | Episodes: 112 | Win count: 130 | Win rate: 0.707 | time: 146.5 seconds\n",
      "Epoch: 184/14999 | Loss: 0.0000 | Episodes: 43 | Win count: 131 | Win rate: 0.708 | time: 147.1 seconds\n",
      "Epoch: 185/14999 | Loss: 0.0010 | Episodes: 20 | Win count: 132 | Win rate: 0.710 | time: 147.4 seconds\n",
      "Epoch: 186/14999 | Loss: 0.0004 | Episodes: 7 | Win count: 133 | Win rate: 0.711 | time: 147.6 seconds\n",
      "Epoch: 187/14999 | Loss: 0.0002 | Episodes: 31 | Win count: 134 | Win rate: 0.713 | time: 148.1 seconds\n",
      "Epoch: 188/14999 | Loss: 0.0007 | Episodes: 20 | Win count: 135 | Win rate: 0.714 | time: 148.4 seconds\n",
      "Epoch: 189/14999 | Loss: 0.0001 | Episodes: 1 | Win count: 136 | Win rate: 0.716 | time: 148.5 seconds\n",
      "Epoch: 190/14999 | Loss: 0.0001 | Episodes: 29 | Win count: 137 | Win rate: 0.717 | time: 149.0 seconds\n",
      "Epoch: 191/14999 | Loss: 0.0005 | Episodes: 3 | Win count: 138 | Win rate: 0.719 | time: 149.1 seconds\n",
      "Epoch: 192/14999 | Loss: 0.0001 | Episodes: 2 | Win count: 139 | Win rate: 0.720 | time: 149.2 seconds\n",
      "Epoch: 193/14999 | Loss: 0.0002 | Episodes: 59 | Win count: 140 | Win rate: 0.722 | time: 150.0 seconds\n",
      "Epoch: 194/14999 | Loss: 0.0003 | Episodes: 9 | Win count: 141 | Win rate: 0.723 | time: 150.2 seconds\n",
      "Epoch: 195/14999 | Loss: 0.0001 | Episodes: 3 | Win count: 142 | Win rate: 0.724 | time: 150.3 seconds\n",
      "Epoch: 196/14999 | Loss: 0.0007 | Episodes: 82 | Win count: 143 | Win rate: 0.726 | time: 151.4 seconds\n",
      "Epoch: 197/14999 | Loss: 0.0008 | Episodes: 43 | Win count: 144 | Win rate: 0.727 | time: 152.0 seconds\n",
      "Epoch: 198/14999 | Loss: 0.0006 | Episodes: 30 | Win count: 145 | Win rate: 0.729 | time: 152.4 seconds\n",
      "Epoch: 199/14999 | Loss: 0.0001 | Episodes: 24 | Win count: 146 | Win rate: 0.730 | time: 152.8 seconds\n",
      "Epoch: 200/14999 | Loss: 0.0008 | Episodes: 3 | Win count: 147 | Win rate: 0.731 | time: 152.9 seconds\n",
      "Epoch: 201/14999 | Loss: 0.0006 | Episodes: 32 | Win count: 148 | Win rate: 0.733 | time: 153.4 seconds\n",
      "Epoch: 202/14999 | Loss: 0.0008 | Episodes: 57 | Win count: 149 | Win rate: 0.734 | time: 154.1 seconds\n",
      "Epoch: 203/14999 | Loss: 0.0008 | Episodes: 14 | Win count: 150 | Win rate: 0.735 | time: 154.4 seconds\n",
      "Epoch: 204/14999 | Loss: 0.0001 | Episodes: 28 | Win count: 151 | Win rate: 0.737 | time: 154.8 seconds\n",
      "Epoch: 205/14999 | Loss: 0.0007 | Episodes: 69 | Win count: 152 | Win rate: 0.738 | time: 155.6 seconds\n",
      "Epoch: 206/14999 | Loss: 0.0002 | Episodes: 17 | Win count: 153 | Win rate: 0.739 | time: 156.0 seconds\n",
      "Epoch: 207/14999 | Loss: 0.0002 | Episodes: 13 | Win count: 154 | Win rate: 0.740 | time: 156.2 seconds\n",
      "Epoch: 208/14999 | Loss: 0.0001 | Episodes: 6 | Win count: 155 | Win rate: 0.742 | time: 156.4 seconds\n",
      "Epoch: 209/14999 | Loss: 0.0009 | Episodes: 26 | Win count: 156 | Win rate: 0.743 | time: 156.8 seconds\n",
      "Epoch: 210/14999 | Loss: 0.0000 | Episodes: 20 | Win count: 157 | Win rate: 0.744 | time: 157.1 seconds\n",
      "Epoch: 211/14999 | Loss: 0.0001 | Episodes: 150 | Win count: 158 | Win rate: 0.745 | time: 158.9 seconds\n",
      "Epoch: 212/14999 | Loss: 0.0003 | Episodes: 78 | Win count: 159 | Win rate: 0.746 | time: 159.9 seconds\n",
      "Epoch: 213/14999 | Loss: 0.0000 | Episodes: 35 | Win count: 160 | Win rate: 0.748 | time: 160.3 seconds\n",
      "Epoch: 214/14999 | Loss: 0.0006 | Episodes: 83 | Win count: 161 | Win rate: 0.749 | time: 161.4 seconds\n",
      "Epoch: 215/14999 | Loss: 0.0003 | Episodes: 43 | Win count: 162 | Win rate: 0.750 | time: 161.9 seconds\n",
      "Epoch: 216/14999 | Loss: 0.0002 | Episodes: 1 | Win count: 163 | Win rate: 0.751 | time: 162.1 seconds\n",
      "Epoch: 217/14999 | Loss: 0.0002 | Episodes: 33 | Win count: 164 | Win rate: 0.752 | time: 162.5 seconds\n",
      "Epoch: 218/14999 | Loss: 0.0003 | Episodes: 27 | Win count: 165 | Win rate: 0.753 | time: 162.9 seconds\n",
      "Epoch: 219/14999 | Loss: 0.0004 | Episodes: 117 | Win count: 166 | Win rate: 0.755 | time: 164.3 seconds\n",
      "Epoch: 220/14999 | Loss: 0.0004 | Episodes: 16 | Win count: 167 | Win rate: 0.756 | time: 164.7 seconds\n",
      "Epoch: 221/14999 | Loss: 0.0002 | Episodes: 41 | Win count: 168 | Win rate: 0.757 | time: 165.3 seconds\n",
      "Epoch: 222/14999 | Loss: 0.0000 | Episodes: 30 | Win count: 169 | Win rate: 0.758 | time: 165.7 seconds\n",
      "Epoch: 223/14999 | Loss: 0.0000 | Episodes: 30 | Win count: 170 | Win rate: 0.759 | time: 166.2 seconds\n",
      "Epoch: 224/14999 | Loss: 0.0000 | Episodes: 7 | Win count: 171 | Win rate: 0.760 | time: 166.4 seconds\n",
      "Epoch: 225/14999 | Loss: 0.0001 | Episodes: 26 | Win count: 172 | Win rate: 0.761 | time: 166.9 seconds\n",
      "Epoch: 226/14999 | Loss: 0.0012 | Episodes: 6 | Win count: 173 | Win rate: 0.762 | time: 167.2 seconds\n",
      "Epoch: 227/14999 | Loss: 0.0002 | Episodes: 2 | Win count: 174 | Win rate: 0.763 | time: 167.3 seconds\n",
      "Epoch: 228/14999 | Loss: 0.0002 | Episodes: 13 | Win count: 175 | Win rate: 0.764 | time: 167.6 seconds\n",
      "Epoch: 229/14999 | Loss: 0.0003 | Episodes: 69 | Win count: 176 | Win rate: 0.765 | time: 168.5 seconds\n",
      "Epoch: 230/14999 | Loss: 0.0001 | Episodes: 24 | Win count: 177 | Win rate: 0.766 | time: 168.8 seconds\n",
      "Epoch: 231/14999 | Loss: 0.0006 | Episodes: 13 | Win count: 178 | Win rate: 0.767 | time: 169.3 seconds\n",
      "Epoch: 232/14999 | Loss: 0.0003 | Episodes: 7 | Win count: 179 | Win rate: 0.768 | time: 169.5 seconds\n",
      "Epoch: 233/14999 | Loss: 0.0001 | Episodes: 51 | Win count: 180 | Win rate: 0.769 | time: 170.3 seconds\n",
      "Epoch: 234/14999 | Loss: 0.0005 | Episodes: 23 | Win count: 181 | Win rate: 0.770 | time: 170.6 seconds\n",
      "Epoch: 235/14999 | Loss: 0.0005 | Episodes: 7 | Win count: 182 | Win rate: 0.771 | time: 171.0 seconds\n",
      "Epoch: 236/14999 | Loss: 0.0003 | Episodes: 4 | Win count: 183 | Win rate: 0.772 | time: 171.1 seconds\n",
      "Epoch: 237/14999 | Loss: 0.0001 | Episodes: 5 | Win count: 184 | Win rate: 0.773 | time: 171.3 seconds\n",
      "Epoch: 238/14999 | Loss: 0.0003 | Episodes: 71 | Win count: 185 | Win rate: 0.774 | time: 172.2 seconds\n",
      "Epoch: 239/14999 | Loss: 0.0003 | Episodes: 42 | Win count: 186 | Win rate: 0.775 | time: 172.8 seconds\n",
      "Epoch: 240/14999 | Loss: 0.0007 | Episodes: 27 | Win count: 187 | Win rate: 0.776 | time: 173.2 seconds\n"
     ]
    },
    {
     "name": "stdout",
     "output_type": "stream",
     "text": [
      "Epoch: 241/14999 | Loss: 0.0001 | Episodes: 15 | Win count: 188 | Win rate: 0.777 | time: 173.6 seconds\n",
      "Epoch: 242/14999 | Loss: 0.0001 | Episodes: 24 | Win count: 189 | Win rate: 0.778 | time: 174.0 seconds\n",
      "Epoch: 243/14999 | Loss: 0.0012 | Episodes: 2 | Win count: 190 | Win rate: 0.779 | time: 174.1 seconds\n",
      "Epoch: 244/14999 | Loss: 0.0005 | Episodes: 19 | Win count: 191 | Win rate: 0.780 | time: 174.4 seconds\n",
      "Epoch: 245/14999 | Loss: 0.0014 | Episodes: 71 | Win count: 192 | Win rate: 0.780 | time: 175.4 seconds\n",
      "Epoch: 246/14999 | Loss: 0.0004 | Episodes: 13 | Win count: 193 | Win rate: 0.781 | time: 175.6 seconds\n",
      "Epoch: 247/14999 | Loss: 0.0002 | Episodes: 21 | Win count: 194 | Win rate: 0.782 | time: 176.2 seconds\n",
      "Epoch: 248/14999 | Loss: 0.0004 | Episodes: 21 | Win count: 195 | Win rate: 0.783 | time: 176.7 seconds\n",
      "Epoch: 249/14999 | Loss: 0.0002 | Episodes: 23 | Win count: 196 | Win rate: 0.784 | time: 177.3 seconds\n",
      "Epoch: 250/14999 | Loss: 0.0001 | Episodes: 41 | Win count: 197 | Win rate: 0.785 | time: 177.9 seconds\n",
      "Epoch: 251/14999 | Loss: 0.0008 | Episodes: 11 | Win count: 198 | Win rate: 0.786 | time: 178.2 seconds\n",
      "Epoch: 252/14999 | Loss: 0.0004 | Episodes: 32 | Win count: 199 | Win rate: 0.787 | time: 178.7 seconds\n",
      "Epoch: 253/14999 | Loss: 0.0002 | Episodes: 40 | Win count: 200 | Win rate: 0.787 | time: 179.2 seconds\n",
      "Epoch: 254/14999 | Loss: 0.0009 | Episodes: 1 | Win count: 201 | Win rate: 0.788 | time: 179.5 seconds\n",
      "Epoch: 255/14999 | Loss: 0.0006 | Episodes: 15 | Win count: 202 | Win rate: 0.789 | time: 179.9 seconds\n",
      "Epoch: 256/14999 | Loss: 0.0002 | Episodes: 8 | Win count: 203 | Win rate: 0.790 | time: 180.4 seconds\n",
      "Epoch: 257/14999 | Loss: 0.0002 | Episodes: 31 | Win count: 204 | Win rate: 0.791 | time: 180.9 seconds\n",
      "Epoch: 258/14999 | Loss: 0.0008 | Episodes: 26 | Win count: 205 | Win rate: 0.792 | time: 181.3 seconds\n",
      "Epoch: 259/14999 | Loss: 0.0002 | Episodes: 84 | Win count: 206 | Win rate: 0.792 | time: 182.3 seconds\n",
      "Epoch: 260/14999 | Loss: 0.0005 | Episodes: 21 | Win count: 207 | Win rate: 0.793 | time: 182.7 seconds\n",
      "Epoch: 261/14999 | Loss: 0.0002 | Episodes: 60 | Win count: 208 | Win rate: 0.794 | time: 183.5 seconds\n",
      "Epoch: 262/14999 | Loss: 0.0006 | Episodes: 19 | Win count: 209 | Win rate: 0.795 | time: 183.8 seconds\n",
      "Epoch: 263/14999 | Loss: 0.0003 | Episodes: 15 | Win count: 210 | Win rate: 0.795 | time: 184.3 seconds\n",
      "Epoch: 264/14999 | Loss: 0.0006 | Episodes: 22 | Win count: 211 | Win rate: 0.796 | time: 184.6 seconds\n",
      "Epoch: 265/14999 | Loss: 0.0000 | Episodes: 8 | Win count: 212 | Win rate: 0.797 | time: 184.8 seconds\n",
      "Epoch: 266/14999 | Loss: 0.0001 | Episodes: 31 | Win count: 213 | Win rate: 0.798 | time: 185.3 seconds\n",
      "Epoch: 267/14999 | Loss: 0.0002 | Episodes: 30 | Win count: 214 | Win rate: 0.799 | time: 185.7 seconds\n",
      "Epoch: 268/14999 | Loss: 0.0002 | Episodes: 26 | Win count: 215 | Win rate: 0.799 | time: 186.1 seconds\n",
      "Epoch: 269/14999 | Loss: 0.0003 | Episodes: 45 | Win count: 216 | Win rate: 0.800 | time: 186.7 seconds\n",
      "Epoch: 270/14999 | Loss: 0.0001 | Episodes: 72 | Win count: 217 | Win rate: 0.801 | time: 187.8 seconds\n",
      "Epoch: 271/14999 | Loss: 0.0003 | Episodes: 8 | Win count: 218 | Win rate: 0.801 | time: 188.0 seconds\n",
      "Epoch: 272/14999 | Loss: 0.0002 | Episodes: 37 | Win count: 219 | Win rate: 0.802 | time: 188.5 seconds\n",
      "Epoch: 273/14999 | Loss: 0.0003 | Episodes: 54 | Win count: 220 | Win rate: 0.803 | time: 189.2 seconds\n",
      "Epoch: 274/14999 | Loss: 0.0006 | Episodes: 10 | Win count: 221 | Win rate: 0.804 | time: 189.4 seconds\n",
      "Epoch: 275/14999 | Loss: 0.0002 | Episodes: 27 | Win count: 222 | Win rate: 0.804 | time: 189.8 seconds\n",
      "Epoch: 276/14999 | Loss: 0.0002 | Episodes: 21 | Win count: 223 | Win rate: 0.805 | time: 190.2 seconds\n",
      "Epoch: 277/14999 | Loss: 0.0004 | Episodes: 30 | Win count: 224 | Win rate: 0.806 | time: 190.6 seconds\n",
      "Epoch: 278/14999 | Loss: 0.0001 | Episodes: 18 | Win count: 225 | Win rate: 0.806 | time: 191.1 seconds\n",
      "Epoch: 279/14999 | Loss: 0.0009 | Episodes: 23 | Win count: 226 | Win rate: 0.807 | time: 191.5 seconds\n",
      "Epoch: 280/14999 | Loss: 0.0000 | Episodes: 46 | Win count: 227 | Win rate: 0.808 | time: 192.1 seconds\n",
      "Epoch: 281/14999 | Loss: 0.0000 | Episodes: 3 | Win count: 228 | Win rate: 0.809 | time: 192.4 seconds\n",
      "Epoch: 282/14999 | Loss: 0.0000 | Episodes: 3 | Win count: 229 | Win rate: 0.809 | time: 192.5 seconds\n",
      "Epoch: 283/14999 | Loss: 0.0000 | Episodes: 25 | Win count: 230 | Win rate: 0.810 | time: 193.1 seconds\n",
      "Epoch: 284/14999 | Loss: 0.0000 | Episodes: 30 | Win count: 231 | Win rate: 0.811 | time: 193.5 seconds\n",
      "Epoch: 285/14999 | Loss: 0.0003 | Episodes: 25 | Win count: 232 | Win rate: 0.811 | time: 193.8 seconds\n",
      "Epoch: 286/14999 | Loss: 0.0013 | Episodes: 45 | Win count: 233 | Win rate: 0.812 | time: 194.5 seconds\n",
      "Epoch: 287/14999 | Loss: 0.0002 | Episodes: 43 | Win count: 234 | Win rate: 0.812 | time: 195.0 seconds\n",
      "Epoch: 288/14999 | Loss: 0.0007 | Episodes: 50 | Win count: 235 | Win rate: 0.813 | time: 195.7 seconds\n",
      "Epoch: 289/14999 | Loss: 0.0002 | Episodes: 26 | Win count: 236 | Win rate: 0.814 | time: 196.1 seconds\n",
      "Epoch: 290/14999 | Loss: 0.0005 | Episodes: 26 | Win count: 237 | Win rate: 0.814 | time: 196.7 seconds\n",
      "Epoch: 291/14999 | Loss: 0.0009 | Episodes: 2 | Win count: 238 | Win rate: 0.815 | time: 196.8 seconds\n",
      "Epoch: 292/14999 | Loss: 0.0001 | Episodes: 19 | Win count: 239 | Win rate: 0.816 | time: 197.1 seconds\n",
      "Epoch: 293/14999 | Loss: 0.0004 | Episodes: 12 | Win count: 240 | Win rate: 0.816 | time: 197.3 seconds\n",
      "Epoch: 294/14999 | Loss: 0.0002 | Episodes: 7 | Win count: 241 | Win rate: 0.817 | time: 197.5 seconds\n",
      "Epoch: 295/14999 | Loss: 0.0003 | Episodes: 7 | Win count: 242 | Win rate: 0.818 | time: 197.7 seconds\n",
      "Epoch: 296/14999 | Loss: 0.0002 | Episodes: 8 | Win count: 243 | Win rate: 0.818 | time: 197.9 seconds\n",
      "Epoch: 297/14999 | Loss: 0.0001 | Episodes: 67 | Win count: 244 | Win rate: 0.819 | time: 198.9 seconds\n",
      "Epoch: 298/14999 | Loss: 0.0001 | Episodes: 21 | Win count: 245 | Win rate: 0.819 | time: 199.6 seconds\n",
      "Epoch: 299/14999 | Loss: 0.0002 | Episodes: 7 | Win count: 246 | Win rate: 0.820 | time: 199.8 seconds\n",
      "Epoch: 300/14999 | Loss: 0.0004 | Episodes: 54 | Win count: 247 | Win rate: 0.821 | time: 200.5 seconds\n",
      " 100% win rate at epoch: 300\n",
      "n_epoch: 300, max_mem: 512, data: 32, time: 201.0 seconds\n"
     ]
    },
    {
     "data": {
      "text/plain": [
       "201.03313"
      ]
     },
     "execution_count": 11,
     "metadata": {},
     "output_type": "execute_result"
    }
   ],
   "source": [
    "model = build_model(maze)\n",
    "qtrain(model, maze, epochs=1000, max_memory=8*maze.size, data_size=32)"
   ]
  },
  {
   "cell_type": "markdown",
   "metadata": {},
   "source": [
    "This cell will check to see if the model passes the completion check. Note: This could take several minutes."
   ]
  },
  {
   "cell_type": "code",
   "execution_count": 12,
   "metadata": {},
   "outputs": [
    {
     "data": {
      "text/plain": [
       "<matplotlib.image.AxesImage at 0x257d593b348>"
      ]
     },
     "execution_count": 12,
     "metadata": {},
     "output_type": "execute_result"
    },
    {
     "data": {
      "image/png": "[encoded data removed]",
      "text/plain": [
       "<Figure size 432x288 with 1 Axes>"
      ]
     },
     "metadata": {
      "needs_background": "light"
     },
     "output_type": "display_data"
    }
   ],
   "source": [
    "completion_check(model, qmaze)\n",
    "show(qmaze)"
   ]
  },
  {
   "cell_type": "markdown",
   "metadata": {},
   "source": [
    "This cell will test your model for one game. It will start the pirate at the top-left corner and run play_game. The agent should find a path from the starting position to the target (treasure). The treasure is located in the bottom-right corner."
   ]
  },
  {
   "cell_type": "code",
   "execution_count": 13,
   "metadata": {},
   "outputs": [
    {
     "data": {
      "text/plain": [
       "<matplotlib.image.AxesImage at 0x257d8328588>"
      ]
     },
     "execution_count": 13,
     "metadata": {},
     "output_type": "execute_result"
    },
    {
     "data": {
      "image/png": "[encoded data removed]",
      "text/plain": [
       "<Figure size 432x288 with 1 Axes>"
      ]
     },
     "metadata": {
      "needs_background": "light"
     },
     "output_type": "display_data"
    }
   ],
   "source": [
    "pirate_start = (0, 0)\n",
    "play_game(model, qmaze, pirate_start)\n",
    "show(qmaze)"
   ]
  },
  {
   "cell_type": "code",
   "execution_count": null,
   "metadata": {},
   "outputs": [],
   "source": []
  },
  {
   "cell_type": "markdown",
   "metadata": {},
   "source": [
    "## Save and Submit Your Work\n",
    "After you have finished creating the code for your notebook, save your work. Make sure that your notebook contains your name in the filename (e.g. Doe_Jane_ProjectTwo.ipynb). This will help your instructor access and grade your work easily. Download a copy of your IPYNB file and submit it to Brightspace. Refer to the Jupyter Notebook in Apporto Tutorial if you need help with these tasks."
   ]
  }
 ],
 "metadata": {
  "kernelspec": {
   "display_name": "Python 3",
   "language": "python",
   "name": "python3"
  },
  "language_info": {
   "codemirror_mode": {
    "name": "ipython",
    "version": 3
   },
   "file_extension": ".py",
   "mimetype": "text/x-python",
   "name": "python",
   "nbconvert_exporter": "python",
   "pygments_lexer": "ipython3",
   "version": "3.7.4"
  }
 },
 "nbformat": 4,
 "nbformat_minor": 2
}
